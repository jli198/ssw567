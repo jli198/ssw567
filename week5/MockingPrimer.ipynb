{
 "cells": [
  {
   "cell_type": "markdown",
   "metadata": {},
   "source": [
    "To complete the assignment this week you do need to have a good grasp of the python mocking framework provided by the unittest.mock module.  As I said in the lecture, each language has it's own frameworks and their own way of doing things, and I didn't necessarily want to focus too much attention on teaching a specific technology, as that will change.  It is important to understand the basic concepts of mocking, which should be consistent across implementations.  So I hope in this note to describe the concepts, using the python mocking framework to help solidify the ideas.\n",
    "\n",
    "You need to understand a few things.  #1 - what is special about a mock object.  #2 - how python allow you to change the way a program works by swapping substituting a mock in place of a function or an object, and #3 - how #1 and #2 together allows you to construct a unittest that gives you full control over the test and totally isolates your test from any external dependencies.\n"
   ]
  },
  {
   "cell_type": "markdown",
   "metadata": {},
   "source": [
    "# 1 - why are mocks special?\n",
    "Before we look at the mock object, let's recall something important about python objects in general.  Remember that you can create a python object from a class.  Let's create the simplest class called \"Foo\" and then create an instance of the class and we will call it f:"
   ]
  },
  {
   "cell_type": "code",
   "execution_count": 2,
   "metadata": {},
   "outputs": [],
   "source": [
    "class Foo:\n",
    "      pass\n",
    "\n",
    "f = Foo()"
   ]
  },
  {
   "cell_type": "markdown",
   "metadata": {},
   "source": [
    "Now what can we do with f?   Well actually, not much.  If we try to access an attribute on f we will get an error.  That is because we've defined no attributes on f:"
   ]
  },
  {
   "cell_type": "code",
   "execution_count": 3,
   "metadata": {},
   "outputs": [
    {
     "ename": "AttributeError",
     "evalue": "'Foo' object has no attribute 'someAttribute'",
     "output_type": "error",
     "traceback": [
      "\u001b[1;31m---------------------------------------------------------------------------\u001b[0m",
      "\u001b[1;31mAttributeError\u001b[0m                            Traceback (most recent call last)",
      "\u001b[1;32m<ipython-input-3-0fc9bd89f3e6>\u001b[0m in \u001b[0;36m<module>\u001b[1;34m()\u001b[0m\n\u001b[1;32m----> 1\u001b[1;33m \u001b[0mf\u001b[0m\u001b[1;33m.\u001b[0m\u001b[0msomeAttribute\u001b[0m\u001b[1;33m\u001b[0m\u001b[0m\n\u001b[0m",
      "\u001b[1;31mAttributeError\u001b[0m: 'Foo' object has no attribute 'someAttribute'"
     ]
    }
   ],
   "source": [
    "f.someAttribute"
   ]
  },
  {
   "cell_type": "markdown",
   "metadata": {},
   "source": [
    "And what if we try to invoke a method on f?  Well we will also get an error, this is because we have not defined any methods on f:"
   ]
  },
  {
   "cell_type": "code",
   "execution_count": 4,
   "metadata": {},
   "outputs": [
    {
     "ename": "AttributeError",
     "evalue": "'Foo' object has no attribute 'someMethod'",
     "output_type": "error",
     "traceback": [
      "\u001b[1;31m---------------------------------------------------------------------------\u001b[0m",
      "\u001b[1;31mAttributeError\u001b[0m                            Traceback (most recent call last)",
      "\u001b[1;32m<ipython-input-4-30d92e81efe5>\u001b[0m in \u001b[0;36m<module>\u001b[1;34m()\u001b[0m\n\u001b[1;32m----> 1\u001b[1;33m \u001b[0mf\u001b[0m\u001b[1;33m.\u001b[0m\u001b[0msomeMethod\u001b[0m\u001b[1;33m(\u001b[0m\u001b[1;33m)\u001b[0m\u001b[1;33m\u001b[0m\u001b[0m\n\u001b[0m",
      "\u001b[1;31mAttributeError\u001b[0m: 'Foo' object has no attribute 'someMethod'"
     ]
    }
   ],
   "source": [
    "f.someMethod()"
   ]
  },
  {
   "cell_type": "markdown",
   "metadata": {},
   "source": [
    "It also returns an error.\n",
    "The class Foo and its associated instance f doesn't have much magic.  It can't do much of anything.\n",
    "\n",
    "So let's compare this to the Mock class and instances of Mock.\n",
    "\n",
    "A mock object is created by calling the Mock() constructor which is imported from the unittest.mock package.  You can use either Mock or MagicMock as your mock class.  For our example it doesn't matter, but MagicMock has more \"magic\" so I tend to use that.  SO you can import using either (a) or (b), and as I said, I prefer (b) but it wouldn't matter for this example.\n",
    "\n",
    "# (a)\n",
    "from unittest.mock import Mock\n",
    "\n",
    "# (b)\n",
    "from unittest.mock import MagicMock as Mock\n",
    "\n",
    "Now you can create a instance of the mock class by doing this:\n"
   ]
  },
  {
   "cell_type": "code",
   "execution_count": 5,
   "metadata": {},
   "outputs": [],
   "source": [
    "from unittest.mock import MagicMock as Mock"
   ]
  },
  {
   "cell_type": "code",
   "execution_count": 6,
   "metadata": {},
   "outputs": [],
   "source": [
    "m = Mock()"
   ]
  },
  {
   "cell_type": "markdown",
   "metadata": {},
   "source": [
    "\n",
    "So what is so special about this instance m?  For one, we can try to access any attribute on this object and it will not return an error:"
   ]
  },
  {
   "cell_type": "code",
   "execution_count": 7,
   "metadata": {},
   "outputs": [
    {
     "data": {
      "text/plain": [
       "<MagicMock name='mock.someAttribute' id='1712583021456'>"
      ]
     },
     "execution_count": 7,
     "metadata": {},
     "output_type": "execute_result"
    }
   ],
   "source": [
    "m.someAttribute"
   ]
  },
  {
   "cell_type": "markdown",
   "metadata": {},
   "source": [
    "Likewise, we can call any method on m and it will not return an error:"
   ]
  },
  {
   "cell_type": "code",
   "execution_count": 8,
   "metadata": {},
   "outputs": [
    {
     "data": {
      "text/plain": [
       "<MagicMock name='mock.someMethod()' id='1712583117288'>"
      ]
     },
     "execution_count": 8,
     "metadata": {},
     "output_type": "execute_result"
    }
   ],
   "source": [
    "m.someMethod()"
   ]
  },
  {
   "cell_type": "markdown",
   "metadata": {},
   "source": [
    "we can even pass arguments to the method:"
   ]
  },
  {
   "cell_type": "code",
   "execution_count": 9,
   "metadata": {},
   "outputs": [
    {
     "data": {
      "text/plain": [
       "<MagicMock name='mock.someMethod()' id='1712583117288'>"
      ]
     },
     "execution_count": 9,
     "metadata": {},
     "output_type": "execute_result"
    }
   ],
   "source": [
    "m.someMethod(f)"
   ]
  },
  {
   "cell_type": "markdown",
   "metadata": {},
   "source": [
    "But so what!  What else can it do?   Well for one, it can allow you to tell the mock object what to return when you try to access an attribute or when you try to call an object.  See here how I can set a value on the attribute of the mock, and then when I try to access teh attribute then the value is returned:"
   ]
  },
  {
   "cell_type": "code",
   "execution_count": 10,
   "metadata": {},
   "outputs": [],
   "source": [
    "m.someAttribute = 420"
   ]
  },
  {
   "cell_type": "code",
   "execution_count": 11,
   "metadata": {},
   "outputs": [
    {
     "data": {
      "text/plain": [
       "420"
      ]
     },
     "execution_count": 11,
     "metadata": {},
     "output_type": "execute_result"
    }
   ],
   "source": [
    "m.someAttribute"
   ]
  },
  {
   "cell_type": "markdown",
   "metadata": {},
   "source": [
    "What about method calls on the mock?  Can I control what the method will return when I call it?  Well sure, take a look here. We can do that by setting the \"return_value\" attribute of the function:"
   ]
  },
  {
   "cell_type": "code",
   "execution_count": 12,
   "metadata": {},
   "outputs": [],
   "source": [
    "m.someFunction.return_value = \"hello\""
   ]
  },
  {
   "cell_type": "markdown",
   "metadata": {},
   "source": [
    "Now when I call the function on the mock instance, see what is returned:"
   ]
  },
  {
   "cell_type": "code",
   "execution_count": 13,
   "metadata": {},
   "outputs": [
    {
     "data": {
      "text/plain": [
       "'hello'"
      ]
     },
     "execution_count": 13,
     "metadata": {},
     "output_type": "execute_result"
    }
   ],
   "source": [
    "m.someFunction()"
   ]
  },
  {
   "cell_type": "markdown",
   "metadata": {},
   "source": [
    "The way all this magic works under the covers isn't important right now (but I encourage you to take a deeper dive to look into that), but you should understand that when you access the attributes of the mock or call functions on the mock that it will by default return an instance of a mock.\n",
    "\n",
    "For example\n"
   ]
  },
  {
   "cell_type": "code",
   "execution_count": 14,
   "metadata": {},
   "outputs": [
    {
     "data": {
      "text/plain": [
       "<MagicMock name='mock.anotherAttribute' id='1712583142760'>"
      ]
     },
     "execution_count": 14,
     "metadata": {},
     "output_type": "execute_result"
    }
   ],
   "source": [
    "m.anotherAttribute"
   ]
  },
  {
   "cell_type": "markdown",
   "metadata": {},
   "source": [
    "likewise:"
   ]
  },
  {
   "cell_type": "code",
   "execution_count": 15,
   "metadata": {},
   "outputs": [
    {
     "data": {
      "text/plain": [
       "<MagicMock name='mock.anotherMethod()' id='1712583201456'>"
      ]
     },
     "execution_count": 15,
     "metadata": {},
     "output_type": "execute_result"
    }
   ],
   "source": [
    "m.anotherMethod()"
   ]
  },
  {
   "cell_type": "markdown",
   "metadata": {},
   "source": [
    "So you can in fact \"chain\" operations on the mock object."
   ]
  },
  {
   "cell_type": "code",
   "execution_count": 16,
   "metadata": {},
   "outputs": [],
   "source": [
    "m.anotherAttribute.someOtherAttribute.anotherMethod().someAttribute = 999"
   ]
  },
  {
   "cell_type": "code",
   "execution_count": 17,
   "metadata": {},
   "outputs": [
    {
     "data": {
      "text/plain": [
       "999"
      ]
     },
     "execution_count": 17,
     "metadata": {},
     "output_type": "execute_result"
    }
   ],
   "source": [
    "m.anotherAttribute.someOtherAttribute.anotherMethod().someAttribute"
   ]
  },
  {
   "cell_type": "code",
   "execution_count": 18,
   "metadata": {},
   "outputs": [],
   "source": [
    "m.anotherAttribute.someOtherAttribute.anotherMethod().aFunction.return_value = \"goodbye\""
   ]
  },
  {
   "cell_type": "code",
   "execution_count": 19,
   "metadata": {},
   "outputs": [
    {
     "data": {
      "text/plain": [
       "'goodbye'"
      ]
     },
     "execution_count": 19,
     "metadata": {},
     "output_type": "execute_result"
    }
   ],
   "source": [
    "m.anotherAttribute.someOtherAttribute.anotherMethod().aFunction()"
   ]
  },
  {
   "cell_type": "markdown",
   "metadata": {},
   "source": [
    "There are in fact many more other things that we can do with mock objects which I won't cover here, but one other one that is important for this assignment is the side_effect attribute.   Remember before that we could set the return value of a method on a mock:"
   ]
  },
  {
   "cell_type": "code",
   "execution_count": 20,
   "metadata": {},
   "outputs": [],
   "source": [
    "m.someMethod.return_value = \"goodbye\""
   ]
  },
  {
   "cell_type": "markdown",
   "metadata": {},
   "source": [
    "So that whenever we called m.someMethod() it would return \"goodbye\".  It would do this everytime we called it:\n"
   ]
  },
  {
   "cell_type": "code",
   "execution_count": 21,
   "metadata": {},
   "outputs": [
    {
     "name": "stdout",
     "output_type": "stream",
     "text": [
      "goodbye\n",
      "goodbye\n",
      "goodbye\n"
     ]
    }
   ],
   "source": [
    "print(m.someMethod())\n",
    "print(m.someMethod())\n",
    "print(m.someMethod())"
   ]
  },
  {
   "cell_type": "markdown",
   "metadata": {},
   "source": [
    "but what about if we wanted that method to return a different result each time we called it?   Say we wanted it to return \"good morning\" the first time, then return \"good afternoon\" the second time, and then finally return \"good night\" the third time?   Well we can achieve that using the \"side_effect\" attribute:"
   ]
  },
  {
   "cell_type": "code",
   "execution_count": 22,
   "metadata": {},
   "outputs": [],
   "source": [
    "results = [Mock(), Mock(), Mock()]\n",
    "results[0] = \"good morning\"\n",
    "results[1] = \"good afternoon\"\n",
    "results[2] = \"good night\"\n",
    "\n",
    "m.greeting.side_effect = results"
   ]
  },
  {
   "cell_type": "markdown",
   "metadata": {},
   "source": [
    "Now when we call the greeting() method we get a different result each time"
   ]
  },
  {
   "cell_type": "code",
   "execution_count": 23,
   "metadata": {},
   "outputs": [
    {
     "name": "stdout",
     "output_type": "stream",
     "text": [
      "good morning\n",
      "good afternoon\n",
      "good night\n"
     ]
    }
   ],
   "source": [
    "print(m.greeting())\n",
    "print(m.greeting())\n",
    "print(m.greeting())"
   ]
  },
  {
   "cell_type": "markdown",
   "metadata": {},
   "source": [
    "If we call it too many times, however, we get an error:"
   ]
  },
  {
   "cell_type": "code",
   "execution_count": 24,
   "metadata": {},
   "outputs": [
    {
     "ename": "StopIteration",
     "evalue": "",
     "output_type": "error",
     "traceback": [
      "\u001b[1;31m---------------------------------------------------------------------------\u001b[0m",
      "\u001b[1;31mStopIteration\u001b[0m                             Traceback (most recent call last)",
      "\u001b[1;32m<ipython-input-24-7e2c762ff882>\u001b[0m in \u001b[0;36m<module>\u001b[1;34m()\u001b[0m\n\u001b[1;32m----> 1\u001b[1;33m \u001b[0mprint\u001b[0m\u001b[1;33m(\u001b[0m\u001b[0mm\u001b[0m\u001b[1;33m.\u001b[0m\u001b[0mgreeting\u001b[0m\u001b[1;33m(\u001b[0m\u001b[1;33m)\u001b[0m\u001b[1;33m)\u001b[0m\u001b[1;33m\u001b[0m\u001b[0m\n\u001b[0m",
      "\u001b[1;32mC:\\Users\\richk\\Software\\Anaconda3\\lib\\unittest\\mock.py\u001b[0m in \u001b[0;36m__call__\u001b[1;34m(_mock_self, *args, **kwargs)\u001b[0m\n\u001b[0;32m    937\u001b[0m         \u001b[1;31m# in the signature\u001b[0m\u001b[1;33m\u001b[0m\u001b[1;33m\u001b[0m\u001b[0m\n\u001b[0;32m    938\u001b[0m         \u001b[0m_mock_self\u001b[0m\u001b[1;33m.\u001b[0m\u001b[0m_mock_check_sig\u001b[0m\u001b[1;33m(\u001b[0m\u001b[1;33m*\u001b[0m\u001b[0margs\u001b[0m\u001b[1;33m,\u001b[0m \u001b[1;33m**\u001b[0m\u001b[0mkwargs\u001b[0m\u001b[1;33m)\u001b[0m\u001b[1;33m\u001b[0m\u001b[0m\n\u001b[1;32m--> 939\u001b[1;33m         \u001b[1;32mreturn\u001b[0m \u001b[0m_mock_self\u001b[0m\u001b[1;33m.\u001b[0m\u001b[0m_mock_call\u001b[0m\u001b[1;33m(\u001b[0m\u001b[1;33m*\u001b[0m\u001b[0margs\u001b[0m\u001b[1;33m,\u001b[0m \u001b[1;33m**\u001b[0m\u001b[0mkwargs\u001b[0m\u001b[1;33m)\u001b[0m\u001b[1;33m\u001b[0m\u001b[0m\n\u001b[0m\u001b[0;32m    940\u001b[0m \u001b[1;33m\u001b[0m\u001b[0m\n\u001b[0;32m    941\u001b[0m \u001b[1;33m\u001b[0m\u001b[0m\n",
      "\u001b[1;32mC:\\Users\\richk\\Software\\Anaconda3\\lib\\unittest\\mock.py\u001b[0m in \u001b[0;36m_mock_call\u001b[1;34m(_mock_self, *args, **kwargs)\u001b[0m\n\u001b[0;32m    996\u001b[0m \u001b[1;33m\u001b[0m\u001b[0m\n\u001b[0;32m    997\u001b[0m             \u001b[1;32mif\u001b[0m \u001b[1;32mnot\u001b[0m \u001b[0m_callable\u001b[0m\u001b[1;33m(\u001b[0m\u001b[0meffect\u001b[0m\u001b[1;33m)\u001b[0m\u001b[1;33m:\u001b[0m\u001b[1;33m\u001b[0m\u001b[0m\n\u001b[1;32m--> 998\u001b[1;33m                 \u001b[0mresult\u001b[0m \u001b[1;33m=\u001b[0m \u001b[0mnext\u001b[0m\u001b[1;33m(\u001b[0m\u001b[0meffect\u001b[0m\u001b[1;33m)\u001b[0m\u001b[1;33m\u001b[0m\u001b[0m\n\u001b[0m\u001b[0;32m    999\u001b[0m                 \u001b[1;32mif\u001b[0m \u001b[0m_is_exception\u001b[0m\u001b[1;33m(\u001b[0m\u001b[0mresult\u001b[0m\u001b[1;33m)\u001b[0m\u001b[1;33m:\u001b[0m\u001b[1;33m\u001b[0m\u001b[0m\n\u001b[0;32m   1000\u001b[0m                     \u001b[1;32mraise\u001b[0m \u001b[0mresult\u001b[0m\u001b[1;33m\u001b[0m\u001b[0m\n",
      "\u001b[1;31mStopIteration\u001b[0m: "
     ]
    }
   ],
   "source": [
    "print(m.greeting())"
   ]
  },
  {
   "cell_type": "markdown",
   "metadata": {},
   "source": [
    "If you understand all this, then you're in a good position to understand the next part, namely how the Mocking framework in Python allows you to inject mock objects into a program, wherever you want."
   ]
  },
  {
   "cell_type": "markdown",
   "metadata": {},
   "source": [
    "# 2 - how python allows you to change the way a program works by substituting a mock in place of a function or an object\n",
    "\n",
    "The unittest.mock module provides a handy method (a decorator as well) that can be used to modify a program, or, in other words, to \"patch\" the program.   So say, for example, that we have a function \"calc\"() that does calculations, but that the function uses a cloud service to do the computation.  The Cloud class implements this very expensive function called \"expensive_operation\".   Whenever you run this it takes 5 seconds to do the calculation."
   ]
  },
  {
   "cell_type": "code",
   "execution_count": 25,
   "metadata": {},
   "outputs": [],
   "source": [
    "from time import sleep\n",
    "\n",
    "class Cloud:\n",
    "    def expensive_operation(self, a,b):\n",
    "        print(\"starting expensive operation\")\n",
    "        t = 3\n",
    "        sleep(t)\n",
    "        print(F\"finished expensive operation {t} seconds later\")\n",
    "        return a + b\n",
    "    \n",
    "def calc(x,y):\n",
    "    cld = Cloud()\n",
    "    z = cld.expensive_operation(x,y)\n",
    "    return z"
   ]
  },
  {
   "cell_type": "markdown",
   "metadata": {},
   "source": [
    "With this defintion, whenever we call \"calc()\" the method will invoke the Cloud method called \"expensive_operation\" (say it calls into some service in the cloud which uses a lot of memory & compute and which costs many dollars) and then returns the result.  For example:\n"
   ]
  },
  {
   "cell_type": "code",
   "execution_count": 26,
   "metadata": {},
   "outputs": [
    {
     "name": "stdout",
     "output_type": "stream",
     "text": [
      "starting expensive operation\n",
      "finished expensive operation 3 seconds later\n"
     ]
    },
    {
     "data": {
      "text/plain": [
       "14"
      ]
     },
     "execution_count": 26,
     "metadata": {},
     "output_type": "execute_result"
    }
   ],
   "source": [
    "calc(12,2)"
   ]
  },
  {
   "cell_type": "markdown",
   "metadata": {},
   "source": [
    "Let's say that the dev team is writing some code to call the calc() method.  "
   ]
  },
  {
   "cell_type": "code",
   "execution_count": 27,
   "metadata": {},
   "outputs": [],
   "source": [
    "def dev_teams_playing_around():\n",
    "    x = 5\n",
    "    y = 2\n",
    "    z = calc(x,y)\n",
    "    return z"
   ]
  },
  {
   "cell_type": "markdown",
   "metadata": {},
   "source": [
    "when the dev teams are playing around, the calculations take a long time and are expensive.  What we want to do is change the program so that we don't call the expensive_operation, but rather we'd want to substitute it with a less expensive operation.\n",
    "\n",
    "The problem is that we're not allow to change the Cloud class or the calc() method.  We need to somehow change how this program behaves, without changing the program.   How can we do that?\n",
    "\n",
    "What we can do is \"patch\" the program to achieve this. By using \"patch,\" we can change the methods that a program calls, or we can change the objects that are referenced by the program, or we can change the classes referenced by the program, without changing one line in the program.\n",
    "\n",
    "Let's look at some examples of how patch can be used to achieve this.\n",
    "\n",
    "First let's define the cheaper operation.  THis is what we want the developers to use when they're playing around vs. the more expensive operation:\n"
   ]
  },
  {
   "cell_type": "code",
   "execution_count": 28,
   "metadata": {},
   "outputs": [],
   "source": [
    "def cheap_operation(_, a,b):\n",
    "    print(\"cheap operation\")\n",
    "    return a + b"
   ]
  },
  {
   "cell_type": "markdown",
   "metadata": {},
   "source": [
    "Next we need to import patch from the mock module"
   ]
  },
  {
   "cell_type": "code",
   "execution_count": 29,
   "metadata": {},
   "outputs": [],
   "source": [
    "from unittest.mock import patch"
   ]
  },
  {
   "cell_type": "markdown",
   "metadata": {},
   "source": [
    "Then we can use \"patch\" to change the operation from an expensive operation to a cheaper one.\n",
    "First the developers run the program without patching:\n"
   ]
  },
  {
   "cell_type": "code",
   "execution_count": 30,
   "metadata": {},
   "outputs": [
    {
     "name": "stdout",
     "output_type": "stream",
     "text": [
      "starting expensive operation\n",
      "finished expensive operation 3 seconds later\n"
     ]
    },
    {
     "data": {
      "text/plain": [
       "7"
      ]
     },
     "execution_count": 30,
     "metadata": {},
     "output_type": "execute_result"
    }
   ],
   "source": [
    "dev_teams_playing_around()"
   ]
  },
  {
   "cell_type": "markdown",
   "metadata": {},
   "source": [
    "Then the developers patch the program and then run it again:"
   ]
  },
  {
   "cell_type": "code",
   "execution_count": 31,
   "metadata": {},
   "outputs": [
    {
     "name": "stdout",
     "output_type": "stream",
     "text": [
      "cheap operation\n",
      "7\n"
     ]
    }
   ],
   "source": [
    "with patch.object(Cloud, 'expensive_operation', new=cheap_operation):\n",
    "    x = dev_teams_playing_around()\n",
    "    print(x)\n",
    "    \n"
   ]
  },
  {
   "cell_type": "markdown",
   "metadata": {},
   "source": [
    "\n",
    "What this did was patch the method Cloud.expensive_operation with a new method called \"cheap_operation\", so that when the developers call dev_teams_playing_around(), that deep down the calc() method ultimately called the cheap_operation instead of the expensive_operation.\n",
    "\n",
    "Patch also allows one to use a python decorations to patch the program.   For example, let's define another method for the developers playing around, but this one will be patched\n"
   ]
  },
  {
   "cell_type": "code",
   "execution_count": 32,
   "metadata": {},
   "outputs": [],
   "source": [
    "@patch('__main__.Cloud.expensive_operation', cheap_operation)\n",
    "def dev_team_playing_patched():\n",
    "    return calc(1,2)"
   ]
  },
  {
   "cell_type": "markdown",
   "metadata": {},
   "source": [
    "now if we call \"dev_team_playing_patched()\" you'll see that it will call the cheap operation."
   ]
  },
  {
   "cell_type": "code",
   "execution_count": 33,
   "metadata": {},
   "outputs": [
    {
     "name": "stdout",
     "output_type": "stream",
     "text": [
      "cheap operation\n"
     ]
    },
    {
     "data": {
      "text/plain": [
       "3"
      ]
     },
     "execution_count": 33,
     "metadata": {},
     "output_type": "execute_result"
    }
   ],
   "source": [
    "dev_team_playing_patched()"
   ]
  },
  {
   "cell_type": "markdown",
   "metadata": {},
   "source": [
    "So you might be asking, what does this have to do with mocks?  \n",
    "The answer is that patch also has some magic in it.  \n",
    "\n",
    "When you use @patch and you indicate that you want to patch a method some object, then @patch will do two things:\n",
    "1. @patch will create an instance of a Mock and use the mock instead of the method or the object that you're patching.   In other words, if we say that we want to patch \"expensive_operation\" but we don't tell patch what to replace it with (remember before, we told patch to replace expensive_operation with cheap_operation), then patch will replace expensive_operation with a mock.  It means that when the calc() method calls \"expensive_operation\" that it will be calling a mock, which as we know will just return another mock.\n",
    "\n",
    "We can see that here:"
   ]
  },
  {
   "cell_type": "code",
   "execution_count": 34,
   "metadata": {},
   "outputs": [
    {
     "data": {
      "text/plain": [
       "<MagicMock name='expensive_operation()' id='1712583633160'>"
      ]
     },
     "execution_count": 34,
     "metadata": {},
     "output_type": "execute_result"
    }
   ],
   "source": [
    "@patch('__main__.Cloud.expensive_operation')\n",
    "def dev_team_playing_patched_with_mock(_):\n",
    "    return calc(1,2)\n",
    "\n",
    "dev_team_playing_patched_with_mock()\n"
   ]
  },
  {
   "cell_type": "markdown",
   "metadata": {},
   "source": [
    "The second thing that @patch does is:\n",
    "\n",
    "2. After @patch creates the mock, it will inject it into the method that @patch is decorating.  In our example here, @patch will add an argument to the end of the method \"dev_team_playing_patched_with_mock\" so that that method now has access to the mock object.  Now you can do things to the mock to change how it will behave whe it is called from within \"calc()\".\n",
    "\n",
    "In the example here, the mock is injected into the method and I named the mock \"injectedMock\".  Now that we have that mock we can set its return value, so that when it is called it will return whatever we want, instead of just returning itself as a mock.  See here:\n"
   ]
  },
  {
   "cell_type": "code",
   "execution_count": 35,
   "metadata": {},
   "outputs": [],
   "source": [
    "@patch('__main__.Cloud.expensive_operation')\n",
    "def dev_team_playing_patched_with_mock(injectedMock):\n",
    "    injectedMock.return_value = 3\n",
    "    return calc(1,2)"
   ]
  },
  {
   "cell_type": "markdown",
   "metadata": {},
   "source": [
    "Now when we call this method: dev_team_playing_patched_with_mock() we will see that it returns 3"
   ]
  },
  {
   "cell_type": "code",
   "execution_count": 36,
   "metadata": {},
   "outputs": [
    {
     "data": {
      "text/plain": [
       "3"
      ]
     },
     "execution_count": 36,
     "metadata": {},
     "output_type": "execute_result"
    }
   ],
   "source": [
    "dev_team_playing_patched_with_mock()"
   ]
  },
  {
   "cell_type": "markdown",
   "metadata": {},
   "source": [
    "At this point you should hopefully understand what mock objects are, and why they are special, as well as how we can use patch to change a program, without having to change the code directly.   With those two pieces we can now take a look to see how we can use this to mock unit tests."
   ]
  },
  {
   "cell_type": "markdown",
   "metadata": {},
   "source": [
    "# 3 - how 1 and 2 together allows you to construct a unittest that gives you full control over the test and totally isolates your test from any external dependencies\n"
   ]
  },
  {
   "cell_type": "markdown",
   "metadata": {},
   "source": [
    "Say that you have a program that does something and you want to write a unit test for that program.  Also say that the progran accesses some external services which are unreliable (think GitHub APIs that have a limit).   What you can do is write a unit test so that it will patch the program that you're trying to test and substitute a mock for all those methods that access external services.\n",
    "Then in your unit test you will get a handle on that mock object (it will be passed in as an argument), and there you will be able to configure what that object returns, so that instead of your program calling a GitHub API and returning a result, the program will call your mock object and it will return whatever you have set it up to return.\n",
    "\n",
    "For example, say the program does the following:\n",
    "\n",
    "    def get_commits_count(user):\n",
    "        ...\n",
    "        # setup the GITHUB URL with the user\n",
    "        ...\n",
    "        # use requests to call github\n",
    "        repos = requests.get(GITHUB_REPOS_URL_WITH_USER)\n",
    "        repos_json = repos.json()\n",
    "        result = []\n",
    "        for repo in repos_json:\n",
    "            repo_name = repo['name']\n",
    "            # setup the GITHUB URL with the user & repos\n",
    "            commits = requests.get(GITHUB_COMMITS_URL_WITH_USER_AND_REPO)\n",
    "            commits_json = commits.json()\n",
    "            # get the number of commits from the result\n",
    "            num_commits = len(commits_json)\n",
    "            ...\n",
    "            result.append((repo, num_commits))\n",
    "        ...\n",
    "        return result\n",
    "\n",
    "and our unit test looks like this:\n",
    "\n",
    "    def test_get_commits_count():\n",
    "        commit_count_list = get_commits_count(USER)\n",
    "        asset_equal(commit_count_list, [('repo1', 10), ('repo2', 45)])\n",
    "\n",
    "The problem is that the GitHub API is unreliable, so we want to mock out the call to requests.get\n",
    "\n",
    "We can start this as follows:\n",
    "\n",
    "    @patch('requests.get')\n",
    "    def test_get_commits_count(injectedMock):\n",
    "        commit_count_list = get_commits_count(USER)\n",
    "        asset_equal(commit_count_list, [('repo1', 10), ('repo2', 45)])\n",
    "\n",
    "remember that what this will do is create the Mock() object and inject it, where in this case the mock object is named 'injectedMock', so that the test method will have access to an instance of Mock() just as if it was created as so:"
   ]
  },
  {
   "cell_type": "code",
   "execution_count": 63,
   "metadata": {},
   "outputs": [],
   "source": [
    "injectedMock = Mock()"
   ]
  },
  {
   "cell_type": "markdown",
   "metadata": {},
   "source": [
    "we did before:  we used @patch to patch the requests.get method with a mock, and that mock will be injected into the unit test method named \"injectedMock\"\n",
    "\n",
    "What we need to do is set up the injecteMock mock object so that it returns whatever results are expected, when it is called. Note that it will be called multiple times, so we will need to use the \"side_effect\" attribute, as we discussed above.\n",
    "\n",
    "So think about it... the first time requests.get() is called, it will return an object, and then immediately after that the json() method will be called on that object, and that we expect the result of calling json() to be a JSON object.  That JSON object will be a list of JSON objects, and each of those objects will have an element called \"name\" that will be the name of a repo.\n",
    "\n",
    "That would be something that looks like this:"
   ]
  },
  {
   "cell_type": "code",
   "execution_count": 64,
   "metadata": {},
   "outputs": [],
   "source": [
    "json_str = '[ { \"name\" : \"repo1\" }, { \"name\" : \"repo2\" } ]'"
   ]
  },
  {
   "cell_type": "markdown",
   "metadata": {},
   "source": [
    "but this is a string, not a JSON object.  We need to turn this string into a JSON object.\n",
    "\n",
    "So how do we turn a string that looks like JSON into a JSON object?   Use the json.loads() method!\n"
   ]
  },
  {
   "cell_type": "code",
   "execution_count": 65,
   "metadata": {},
   "outputs": [],
   "source": [
    "import json\n",
    "\n",
    "json_obj = json.loads(json_str)"
   ]
  },
  {
   "cell_type": "markdown",
   "metadata": {},
   "source": [
    "\n",
    "Now that we have a json object, we want to set up the mock so that when when someone calls the json() method on the mock, that this json object is returned.\n",
    "\n",
    "If our mock object was just returning one value, we could do this:\n",
    "\n"
   ]
  },
  {
   "cell_type": "code",
   "execution_count": 66,
   "metadata": {},
   "outputs": [],
   "source": [
    "    m = Mock()\n",
    "    m.json.return_value = json_obj"
   ]
  },
  {
   "cell_type": "markdown",
   "metadata": {},
   "source": [
    "then when we called m.json() it would return json_obj\n"
   ]
  },
  {
   "cell_type": "code",
   "execution_count": 86,
   "metadata": {},
   "outputs": [
    {
     "data": {
      "text/plain": [
       "[{'name': 'repo1'}, {'name': 'repo2'}]"
      ]
     },
     "execution_count": 86,
     "metadata": {},
     "output_type": "execute_result"
    }
   ],
   "source": [
    "m.json()"
   ]
  },
  {
   "cell_type": "markdown",
   "metadata": {},
   "source": [
    "But we know that our mock will be called multiple times, because we know that requests.get will be called multiple times.\n",
    "So we have to set up side_effect instead, as follows:\n"
   ]
  },
  {
   "cell_type": "code",
   "execution_count": 89,
   "metadata": {},
   "outputs": [],
   "source": [
    "# assume that here we are in the body of the test method, and injectedMock as injected as a parameter to the method:\n",
    "    \n",
    "results = [Mock(), Mock(), Mock()]\n",
    "results[0].json.return_value = json.loads('[ { \"name\" : \"repo1\" }, { \"name\" : \"repo2\" } ]')\n",
    "results[1].json.return_value = json.loads('[ { \"commit\" : \"abc\" }, { \"commit\" : \"blah\" }, \\\n",
    "                                          { \"commit\" : \"baz\" }, { \"commit\" : \"foo\" } ]')\n",
    "results[2].json.return_value = json.loads('[ { \"commit\" : \"abc\" }, { \"commit\" : \"blah\" } ]')\n",
    "injectedMock.side_effect = results"
   ]
  },
  {
   "cell_type": "markdown",
   "metadata": {},
   "source": [
    "assume that we are patching the method called \"req_get\", then what patch will do is set req_get to be equal to the injectedMock. \n",
    "\n"
   ]
  },
  {
   "cell_type": "code",
   "execution_count": 90,
   "metadata": {},
   "outputs": [],
   "source": [
    "req_get = injectedMock"
   ]
  },
  {
   "cell_type": "markdown",
   "metadata": {},
   "source": [
    "Then when the method we mocking, req_get, is called, multiple times, and then for each when we call the json() methon on the result, then it will return multiple JSON objects, in turn, just as you have them set up."
   ]
  },
  {
   "cell_type": "code",
   "execution_count": 91,
   "metadata": {},
   "outputs": [
    {
     "data": {
      "text/plain": [
       "[{'name': 'repo1'}, {'name': 'repo2'}]"
      ]
     },
     "execution_count": 91,
     "metadata": {},
     "output_type": "execute_result"
    }
   ],
   "source": [
    "j = req_get()\n",
    "j.json()"
   ]
  },
  {
   "cell_type": "code",
   "execution_count": 92,
   "metadata": {},
   "outputs": [
    {
     "data": {
      "text/plain": [
       "[{'commit': 'abc'}, {'commit': 'blah'}, {'commit': 'baz'}, {'commit': 'foo'}]"
      ]
     },
     "execution_count": 92,
     "metadata": {},
     "output_type": "execute_result"
    }
   ],
   "source": [
    "j = req_get()\n",
    "j.json()"
   ]
  },
  {
   "cell_type": "code",
   "execution_count": 93,
   "metadata": {},
   "outputs": [
    {
     "data": {
      "text/plain": [
       "[{'commit': 'abc'}, {'commit': 'blah'}]"
      ]
     },
     "execution_count": 93,
     "metadata": {},
     "output_type": "execute_result"
    }
   ],
   "source": [
    "j = req_get()\n",
    "j.json()"
   ]
  },
  {
   "cell_type": "markdown",
   "metadata": {},
   "source": [
    "Please have a good look at this sheet and let me know if you any questions, or if you detect any errors.  You know how to reach me.   Good luck.\n"
   ]
  }
 ],
 "metadata": {
  "kernelspec": {
   "display_name": "Python 3",
   "language": "python",
   "name": "python3"
  },
  "language_info": {
   "codemirror_mode": {
    "name": "ipython",
    "version": 3
   },
   "file_extension": ".py",
   "mimetype": "text/x-python",
   "name": "python",
   "nbconvert_exporter": "python",
   "pygments_lexer": "ipython3",
   "version": "3.6.5"
  }
 },
 "nbformat": 4,
 "nbformat_minor": 2
}
